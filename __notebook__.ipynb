{
 "cells": [
  {
   "cell_type": "markdown",
   "metadata": {
    "_cell_guid": "e2875ace-b565-4b60-9e69-79ad6ca3566b",
    "_uuid": "d2c165a9adf3c495c9ce377e21445bd654d8de92",
    "collapsed": true
   },
   "source": [
    "# TED-Talks transcripts text processing tutorial"
   ]
  },
  {
   "cell_type": "markdown",
   "metadata": {
    "_cell_guid": "c4083d03-2b19-4e95-bf16-bb9486f12d4a",
    "_uuid": "4581de0b5caee13f78a4a3881155e34481df47f6"
   },
   "source": [
    "In this notebook we will study text processing, passing through feature extraction to topic modeling in order to (1) have a first meet with text processing techniques and (2) analyze briefly some TED-Talks patterns.\n",
    "\n",
    "In the amazing TED-Talks dataset, we have two files, one (ted_main.csv) with meta information about the talks, as # of comment, rating, related TEDs and so on; the other file has the transcripts which we'll care about in this tutorial. Even so, we'll use the ted_main.csv file to evaluate our topic modeling implementation, because it has a columns of talks' tags, useful as our \"ground truth topics\"."
   ]
  },
  {
   "cell_type": "code",
   "execution_count": 1,
   "metadata": {
    "_cell_guid": "3388da79-2238-47ff-9d86-45438ad3ea8d",
    "_uuid": "5d90eeb14490a2f69e98d1a8835e3018cded02dd",
    "collapsed": true
   },
   "outputs": [],
   "source": [
    "import numpy as np \n",
    "import pandas as pd \n",
    "from time import time"
   ]
  },
  {
   "cell_type": "markdown",
   "metadata": {
    "_cell_guid": "3654edf4-32c6-456e-a998-60d508433f8b",
    "_uuid": "a3c8331a832f874409c31f3704f8e7c8515e22f1"
   },
   "source": [
    "### 0.1. Transcripts loading"
   ]
  },
  {
   "cell_type": "code",
   "execution_count": 2,
   "metadata": {
    "_cell_guid": "e3891acc-b56a-4f07-8666-8c62227c2ae9",
    "_uuid": "a842242197826ec99193ca599dd1667a6a4ff1e1"
   },
   "outputs": [
    {
     "data": {
      "text/html": [
       "<div>\n",
       "<style>\n",
       "    .dataframe thead tr:only-child th {\n",
       "        text-align: right;\n",
       "    }\n",
       "\n",
       "    .dataframe thead th {\n",
       "        text-align: left;\n",
       "    }\n",
       "\n",
       "    .dataframe tbody tr th {\n",
       "        vertical-align: top;\n",
       "    }\n",
       "</style>\n",
       "<table border=\"1\" class=\"dataframe\">\n",
       "  <thead>\n",
       "    <tr style=\"text-align: right;\">\n",
       "      <th></th>\n",
       "      <th>transcript</th>\n",
       "      <th>url</th>\n",
       "    </tr>\n",
       "  </thead>\n",
       "  <tbody>\n",
       "    <tr>\n",
       "      <th>0</th>\n",
       "      <td>Good morning. How are you?(Laughter)It's been ...</td>\n",
       "      <td>https://www.ted.com/talks/ken_robinson_says_sc...</td>\n",
       "    </tr>\n",
       "    <tr>\n",
       "      <th>1</th>\n",
       "      <td>Thank you so much, Chris. And it's truly a gre...</td>\n",
       "      <td>https://www.ted.com/talks/al_gore_on_averting_...</td>\n",
       "    </tr>\n",
       "    <tr>\n",
       "      <th>2</th>\n",
       "      <td>(Music: \"The Sound of Silence,\" Simon &amp; Garfun...</td>\n",
       "      <td>https://www.ted.com/talks/david_pogue_says_sim...</td>\n",
       "    </tr>\n",
       "    <tr>\n",
       "      <th>3</th>\n",
       "      <td>If you're here today — and I'm very happy that...</td>\n",
       "      <td>https://www.ted.com/talks/majora_carter_s_tale...</td>\n",
       "    </tr>\n",
       "    <tr>\n",
       "      <th>4</th>\n",
       "      <td>About 10 years ago, I took on the task to teac...</td>\n",
       "      <td>https://www.ted.com/talks/hans_rosling_shows_t...</td>\n",
       "    </tr>\n",
       "  </tbody>\n",
       "</table>\n",
       "</div>"
      ],
      "text/plain": [
       "                                          transcript  \\\n",
       "0  Good morning. How are you?(Laughter)It's been ...   \n",
       "1  Thank you so much, Chris. And it's truly a gre...   \n",
       "2  (Music: \"The Sound of Silence,\" Simon & Garfun...   \n",
       "3  If you're here today — and I'm very happy that...   \n",
       "4  About 10 years ago, I took on the task to teac...   \n",
       "\n",
       "                                                 url  \n",
       "0  https://www.ted.com/talks/ken_robinson_says_sc...  \n",
       "1  https://www.ted.com/talks/al_gore_on_averting_...  \n",
       "2  https://www.ted.com/talks/david_pogue_says_sim...  \n",
       "3  https://www.ted.com/talks/majora_carter_s_tale...  \n",
       "4  https://www.ted.com/talks/hans_rosling_shows_t...  "
      ]
     },
     "execution_count": 2,
     "metadata": {},
     "output_type": "execute_result"
    }
   ],
   "source": [
    "ted_main_df = pd.read_csv('data/ted_main.csv', encoding='utf-8')\n",
    "transcripts_df = pd.read_csv('data/transcripts.csv', encoding='utf-8')\n",
    "transcripts_df.head()"
   ]
  },
  {
   "cell_type": "markdown",
   "metadata": {
    "_cell_guid": "800b6bc6-d049-435e-b9ff-76543d50cfe3",
    "_uuid": "6bb30749ff647b7f9b38c7e4f153e337ae7c8fa0"
   },
   "source": [
    "### 0.2. Stopwords loading\n",
    "\n",
    "\"...stop words are words which are filtered out before or after processing of natural language data (text).[1] Though \"stop words\" usually refers to the most common words in a language, there is no single universal list of stop words used by all natural language processing tools, and indeed not all tools even use such a list.\" (Wikipedia)"
   ]
  },
  {
   "cell_type": "code",
   "execution_count": 3,
   "metadata": {
    "_cell_guid": "c95abe50-03ef-4036-98da-c64b94807842",
    "_uuid": "275b0f0b67ff8857b5f6749252197691380c4be5",
    "collapsed": true
   },
   "outputs": [],
   "source": [
    "from sklearn.feature_extraction import text\n",
    "stopwords = text.ENGLISH_STOP_WORDS"
   ]
  },
  {
   "cell_type": "markdown",
   "metadata": {
    "_cell_guid": "fe118ab9-476b-42df-ac84-2dd5864fb657",
    "_uuid": "7c225d935047b08e3817df7ad590dfa6ec0417d1"
   },
   "source": [
    "## 1. Text feature extraction with TFIDF\n",
    "\n",
    "\n",
    "First,  consider the term-frequency (TF) matrix above, that can be extracted from a list of documents and the universe of terms in such documents.\n",
    "\n",
    "|        | Document 1 | Document 2 | ... | Document N |\n",
    "|--------|------------|------------|-----|------------|\n",
    "| Term 1 | 3          | 0          | ... | 1          |\n",
    "| Term 2 | 0          | 1          | ... | 2          |\n",
    "| Term 3 | 2          | 2          | ... | 1          |\n",
    "| ...    | ...        | ...        | ... | ...        |\n",
    "| Term N | 1          | 0          | ... | 0          |\n",
    "\n",
    "\n",
    "This is a huge matrix with all elements' frequency in all documents. Now consider de idf (inverse document frequency) as an operation to transform this frequency into word importance, calculated by:\n",
    "\n",
    "$$ tfidf_{i,j} = tf_{i,j}  \\times log(\\frac{N}{df_{i}}) $$\n",
    "\n",
    "Where $i$ refers to term index and $j$ document index. $N$ is the total number of documents and $df_{i}$ is the number of documents containing $i$.\n",
    "\n"
   ]
  },
  {
   "cell_type": "code",
   "execution_count": 4,
   "metadata": {
    "_cell_guid": "0664d2fd-070d-4712-95cc-3ce34b5a0d3c",
    "_uuid": "eb83b0a6d190cd99b6376071e578dd11660fe333"
   },
   "outputs": [
    {
     "name": "stdout",
     "output_type": "stream",
     "text": [
      "done in 3.681s.\n"
     ]
    }
   ],
   "source": [
    "from sklearn.feature_extraction.text import TfidfVectorizer\n",
    "vectorizer = TfidfVectorizer(stop_words=stopwords,\n",
    "                                min_df = 0.05, # cut words present in less than 5% of documents\n",
    "                                max_df = 0.5)  # cut words present in more than 50% of documents \n",
    "t0 = time()\n",
    "\n",
    "tfidf = vectorizer.fit_transform(transcripts_df['transcript'])\n",
    "print(\"done in %0.3fs.\" % (time() - t0))\n",
    "\n",
    "## uncomment this to visualize tfidf\n",
    "# print('  (j,i)         tfidf')\n",
    "# print(tfidf)"
   ]
  },
  {
   "cell_type": "markdown",
   "metadata": {
    "_cell_guid": "7fa1c608-f090-4cca-93c4-e791b5dfd639",
    "_uuid": "2ff07e6661353a7042fc768086c597ca5ad1ab9d"
   },
   "source": [
    " Let's see what we can do with TFIDF... \n",
    "\n",
    "In our TFIFD definition, min_df and max_df were filtering words with document frequency between 5% and 50%. In another words, we're excluding very rare words (present in less than 5% of documents) and the common ones (present in more than \n",
    "50% of them).\n",
    "\n",
    "Keeping that in mind, we'll want to see the most important words in our matrix..."
   ]
  },
  {
   "cell_type": "code",
   "execution_count": 5,
   "metadata": {
    "_cell_guid": "61b9d9ad-3624-41c1-b492-9d9855ded2fe",
    "_uuid": "9a1fd8b2ceeccdd44d8631ae8d33eb2e2eb48d43"
   },
   "outputs": [
    {
     "data": {
      "text/html": [
       "<div>\n",
       "<style>\n",
       "    .dataframe thead tr:only-child th {\n",
       "        text-align: right;\n",
       "    }\n",
       "\n",
       "    .dataframe thead th {\n",
       "        text-align: left;\n",
       "    }\n",
       "\n",
       "    .dataframe tbody tr th {\n",
       "        vertical-align: top;\n",
       "    }\n",
       "</style>\n",
       "<table border=\"1\" class=\"dataframe\">\n",
       "  <thead>\n",
       "    <tr style=\"text-align: right;\">\n",
       "      <th></th>\n",
       "      <th>term</th>\n",
       "      <th>rank</th>\n",
       "    </tr>\n",
       "  </thead>\n",
       "  <tbody>\n",
       "    <tr>\n",
       "      <th>1069</th>\n",
       "      <td>music</td>\n",
       "      <td>65.184451</td>\n",
       "    </tr>\n",
       "    <tr>\n",
       "      <th>1771</th>\n",
       "      <td>women</td>\n",
       "      <td>61.038590</td>\n",
       "    </tr>\n",
       "    <tr>\n",
       "      <th>1169</th>\n",
       "      <td>percent</td>\n",
       "      <td>58.935039</td>\n",
       "    </tr>\n",
       "    <tr>\n",
       "      <th>805</th>\n",
       "      <td>human</td>\n",
       "      <td>58.526072</td>\n",
       "    </tr>\n",
       "    <tr>\n",
       "      <th>193</th>\n",
       "      <td>brain</td>\n",
       "      <td>56.500979</td>\n",
       "    </tr>\n",
       "  </tbody>\n",
       "</table>\n",
       "</div>"
      ],
      "text/plain": [
       "         term       rank\n",
       "1069    music  65.184451\n",
       "1771    women  61.038590\n",
       "1169  percent  58.935039\n",
       "805     human  58.526072\n",
       "193     brain  56.500979"
      ]
     },
     "execution_count": 5,
     "metadata": {},
     "output_type": "execute_result"
    }
   ],
   "source": [
    "# Let's make a function to call the top ranked words in a vectorizer\n",
    "def rank_words(terms, feature_matrix):\n",
    "    sums = feature_matrix.sum(axis=0)\n",
    "    data = []\n",
    "    for col, term in enumerate(terms):\n",
    "        data.append( (term, sums[0,col]) )\n",
    "    ranked = pd.DataFrame(data, columns=['term','rank']).sort_values('rank', ascending=False)\n",
    "    return ranked\n",
    "\n",
    "ranked = rank_words(terms=vectorizer.get_feature_names(), feature_matrix=tfidf)\n",
    "ranked.head()"
   ]
  },
  {
   "cell_type": "code",
   "execution_count": 6,
   "metadata": {
    "_cell_guid": "918b522b-c239-4c5d-9a78-321b197885ed",
    "_uuid": "d11a36b552bb49ec9fb01252b927ca28e6084e6c"
   },
   "outputs": [
    {
     "data": {
      "image/png": "[encoded data removed]",
      "text/plain": [
       "<matplotlib.figure.Figure at 0x7f03c84209e8>"
      ]
     },
     "metadata": {},
     "output_type": "display_data"
    }
   ],
   "source": [
    "# Let's visualize the top10 important words in our tfidf\n",
    "n_ranked = 10\n",
    "\n",
    "y = ranked['term'].values[:n_ranked]\n",
    "x = ranked['rank'].values[:n_ranked]\n",
    "\n",
    "import matplotlib.pyplot as plt\n",
    "fig, ax = plt.subplots(figsize=(12,4))\n",
    "index = np.arange(n_ranked)\n",
    "bar_width = 0.35\n",
    "rects = plt.bar(index, x, bar_width, color='r')\n",
    "plt.title('Most important words on TED-Talks')\n",
    "plt.xticks(index , y)\n",
    "plt.show()"
   ]
  },
  {
   "cell_type": "markdown",
   "metadata": {
    "_cell_guid": "76d35ca7-2814-483f-bb00-986641b13477",
    "_uuid": "9e419ac0904aa54c5a3a92c060af3ac79c4f5f16"
   },
   "source": [
    "## 2. Topic modeling (using LDA)\n",
    "\n",
    "... In construction"
   ]
  },
  {
   "cell_type": "code",
   "execution_count": 7,
   "metadata": {
    "_cell_guid": "79ecdca2-0be0-4eb2-98b9-d6fcb3d12966",
    "_uuid": "5daa58197360e432d7c1258749f3b0e0d3012047"
   },
   "outputs": [
    {
     "name": "stdout",
     "output_type": "stream",
     "text": [
      "done in 1.413s.\n"
     ]
    }
   ],
   "source": [
    "from sklearn.decomposition import NMF\n",
    "\n",
    "#NMF\n",
    "n_topics = 10\n",
    "nmf = NMF(n_topics, random_state=0)\n",
    "\n",
    "# NMF fitting\n",
    "t0 = time()\n",
    "topics = nmf.fit_transform(tfidf)\n",
    "print(\"done in %0.3fs.\" % (time() - t0))"
   ]
  },
  {
   "cell_type": "code",
   "execution_count": 8,
   "metadata": {
    "_cell_guid": "5a10e9a6-bd17-4afd-9994-9bdf4421c3ca",
    "_uuid": "4f2a089fe5e83b29fe38f7c3085f97f9c22218e0"
   },
   "outputs": [
    {
     "name": "stdout",
     "output_type": "stream",
     "text": [
      "Topic #0: ['love', 'story', 'feel', 'man', 'god']\n",
      "Topic #1: ['women', 'men', 'girls', 'woman', 'sex']\n",
      "Topic #2: ['music', 'play', 'sound', 'song', 'ends']\n",
      "Topic #3: ['brain', 'brains', 'cells', 'human', 'body']\n",
      "Topic #4: ['countries', 'percent', 'africa', 'country', 'government']\n",
      "Topic #5: ['water', 'earth', 'planet', 'ocean', 'species']\n",
      "Topic #6: ['cancer', 'cells', 'patients', 'disease', 'cell']\n",
      "Topic #7: ['data', 'information', 'computer', 'technology', 'machine']\n",
      "Topic #8: ['city', 'cities', 'design', 'building', 'buildings']\n",
      "Topic #9: ['kids', 'school', 'children', 'education', 'students']\n"
     ]
    }
   ],
   "source": [
    "# Exploring the topics\n",
    "top_n_words = 5\n",
    "for t_id, t in enumerate(nmf.components_):\n",
    "    t_words = [vectorizer.get_feature_names()[i] for i in t.argsort()[:-top_n_words - 1:-1]]\n",
    "    print(\"Topic #{}:\".format(t_id),t_words)"
   ]
  },
  {
   "cell_type": "code",
   "execution_count": 9,
   "metadata": {
    "_cell_guid": "6ffba558-1f16-4316-b321-2419e34c08f5",
    "_uuid": "eb2e12c8952bf9af31590cdae055e441f8a5f358"
   },
   "outputs": [
    {
     "name": "stdout",
     "output_type": "stream",
     "text": [
      "Document number 4 talk about topic #4\n",
      "\n",
      "Transcript:\n",
      "About 10 years ago, I took on the task to teach global development to Swedish undergraduate students. That was after having spent about 20 years together with African institutions studying hunger in Africa, so I was sort of expected to know a little about the world. And I started in our medical university, Karolinska Institute, an undergraduate course called Global Health. But when you get that opportunity, you get a little nervous. I thought, these students coming to us actually have the highes ...\n"
     ]
    }
   ],
   "source": [
    "from sklearn.pipeline import Pipeline\n",
    "pipe = Pipeline([\n",
    "    ('tfidf', vectorizer),\n",
    "    ('nmf', nmf)\n",
    "])\n",
    "\n",
    "document_id = 4\n",
    "t = pipe.transform([transcripts_df['transcript'].iloc[document_id]]) \n",
    "threshold = 0.1\n",
    "for i, p in enumerate(t[0]):\n",
    "    if p>threshold:\n",
    "        print('Document number {} talk about topic #{}'.format(document_id, i))\n",
    "print('\\nTranscript:')     \n",
    "print(transcripts_df['transcript'].iloc[document_id][:500],'...')"
   ]
  },
  {
   "cell_type": "code",
   "execution_count": 10,
   "metadata": {
    "_cell_guid": "e3658c0e-8cc3-4c87-8b40-b16147b86f8a",
    "_uuid": "80c9f76fe370f06eccbef7de30979d17fb7ffd3c"
   },
   "outputs": [
    {
     "name": "stdout",
     "output_type": "stream",
     "text": [
      "[ \"['Africa', 'Asia', 'Google', 'demo', 'economics', 'global development', 'global issues', 'health', 'math', 'statistics', 'visualizations']\"]\n"
     ]
    },
    {
     "data": {
      "text/html": [
       "<div>\n",
       "<style>\n",
       "    .dataframe thead tr:only-child th {\n",
       "        text-align: right;\n",
       "    }\n",
       "\n",
       "    .dataframe thead th {\n",
       "        text-align: left;\n",
       "    }\n",
       "\n",
       "    .dataframe tbody tr th {\n",
       "        vertical-align: top;\n",
       "    }\n",
       "</style>\n",
       "<table border=\"1\" class=\"dataframe\">\n",
       "  <thead>\n",
       "    <tr style=\"text-align: right;\">\n",
       "      <th></th>\n",
       "      <th>comments</th>\n",
       "      <th>description</th>\n",
       "      <th>duration</th>\n",
       "      <th>event</th>\n",
       "      <th>film_date</th>\n",
       "      <th>languages</th>\n",
       "      <th>main_speaker</th>\n",
       "      <th>name</th>\n",
       "      <th>num_speaker</th>\n",
       "      <th>published_date</th>\n",
       "      <th>ratings</th>\n",
       "      <th>related_talks</th>\n",
       "      <th>speaker_occupation</th>\n",
       "      <th>tags</th>\n",
       "      <th>title</th>\n",
       "      <th>url</th>\n",
       "      <th>views</th>\n",
       "    </tr>\n",
       "  </thead>\n",
       "  <tbody>\n",
       "    <tr>\n",
       "      <th>4</th>\n",
       "      <td>593</td>\n",
       "      <td>You've never seen data presented like this. Wi...</td>\n",
       "      <td>1190</td>\n",
       "      <td>TED2006</td>\n",
       "      <td>1140566400</td>\n",
       "      <td>48</td>\n",
       "      <td>Hans Rosling</td>\n",
       "      <td>Hans Rosling: The best stats you've ever seen</td>\n",
       "      <td>1</td>\n",
       "      <td>1151440680</td>\n",
       "      <td>[{'id': 9, 'name': 'Ingenious', 'count': 3202}...</td>\n",
       "      <td>[{'id': 2056, 'hero': 'https://pe.tedcdn.com/i...</td>\n",
       "      <td>Global health expert; data visionary</td>\n",
       "      <td>['Africa', 'Asia', 'Google', 'demo', 'economic...</td>\n",
       "      <td>The best stats you've ever seen</td>\n",
       "      <td>https://www.ted.com/talks/hans_rosling_shows_t...</td>\n",
       "      <td>12005869</td>\n",
       "    </tr>\n",
       "  </tbody>\n",
       "</table>\n",
       "</div>"
      ],
      "text/plain": [
       "   comments                                        description  duration  \\\n",
       "4       593  You've never seen data presented like this. Wi...      1190   \n",
       "\n",
       "     event   film_date  languages  main_speaker  \\\n",
       "4  TED2006  1140566400         48  Hans Rosling   \n",
       "\n",
       "                                            name  num_speaker  published_date  \\\n",
       "4  Hans Rosling: The best stats you've ever seen            1      1151440680   \n",
       "\n",
       "                                             ratings  \\\n",
       "4  [{'id': 9, 'name': 'Ingenious', 'count': 3202}...   \n",
       "\n",
       "                                       related_talks  \\\n",
       "4  [{'id': 2056, 'hero': 'https://pe.tedcdn.com/i...   \n",
       "\n",
       "                     speaker_occupation  \\\n",
       "4  Global health expert; data visionary   \n",
       "\n",
       "                                                tags  \\\n",
       "4  ['Africa', 'Asia', 'Google', 'demo', 'economic...   \n",
       "\n",
       "                             title  \\\n",
       "4  The best stats you've ever seen   \n",
       "\n",
       "                                                 url     views  \n",
       "4  https://www.ted.com/talks/hans_rosling_shows_t...  12005869  "
      ]
     },
     "execution_count": 10,
     "metadata": {},
     "output_type": "execute_result"
    }
   ],
   "source": [
    "talk = ted_main_df[ted_main_df['url']==transcripts_df['url'].iloc[document_id]]\n",
    "print(talk['tags'].values)\n",
    "talk"
   ]
  },
  {
   "cell_type": "markdown",
   "metadata": {},
   "source": [
    "# Conclusions\n",
    "\n",
    "After topic modeling, we note that the topics extracted from LDA are very similar to the TED *tags* attribute. May you can ex this notebook and try it out! Change the **document_id** variable and see that happens! And don't forget to star the repo if it helps you!"
   ]
  }
 ],
 "metadata": {
  "kernelspec": {
   "display_name": "Python 3",
   "language": "python",
   "name": "python3"
  },
  "language_info": {
   "codemirror_mode": {
    "name": "ipython",
    "version": 3
   },
   "file_extension": ".py",
   "mimetype": "text/x-python",
   "name": "python",
   "nbconvert_exporter": "python",
   "pygments_lexer": "ipython3",
   "version": "3.5.2"
  }
 },
 "nbformat": 4,
 "nbformat_minor": 1
}
